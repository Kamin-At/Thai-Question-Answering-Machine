{
 "cells": [
  {
   "cell_type": "code",
   "execution_count": 190,
   "metadata": {},
   "outputs": [],
   "source": [
    "from pythainlp.tokenize import word_tokenize\n",
    "import pythainlp\n",
    "import json\n",
    "import os\n",
    "import regex as re\n",
    "import matplotlib.pyplot as plt\n",
    "import numpy as np\n",
    "import pandas as pd\n",
    "\n",
    "from sklearn.feature_extraction.text import TfidfVectorizer"
   ]
  },
  {
   "cell_type": "code",
   "execution_count": 32,
   "metadata": {},
   "outputs": [
    {
     "name": "stdout",
     "output_type": "stream",
     "text": [
      "broken: 1\n",
      "n: 9170\n",
      "n_more2: 1212\n",
      "left: 7958\n",
      "loss: 0.8678298800436205\n"
     ]
    }
   ],
   "source": [
    "os.chdir('C:\\\\Users\\\\iApp\\\\Desktop\\\\min projects\\\\ref')\n",
    "with open('export.9000.formatted.json', 'r', encoding = 'utf8') as f:\n",
    "    data = json.load(f)\n",
    "# print(data.keys())\n",
    "# print(len(data['db'].keys()))\n",
    "# print(data['db']['01KZTrxgvC5mOovXFMPJ'].keys())\n",
    "# print(data['db']['01KZTrxgvC5mOovXFMPJ']['title'])\n",
    "# print(data['db']['01KZTrxgvC5mOovXFMPJ']['detail'])\n",
    "n = 0\n",
    "# check = 0\n",
    "n_more2 = 0\n",
    "broken = 0\n",
    "for j in data['db']:\n",
    "#     print(data['db'][j]['detail'])\n",
    "    try:\n",
    "        data['db'][j]['QA']\n",
    "    except:\n",
    "        broken = broken + 1\n",
    "        continue\n",
    "    for i in data['db'][j]['QA']:\n",
    "#         print(f'Q: {i[\"q\"]}')\n",
    "#         print(f'A: {i[\"a\"]}')\n",
    "        n = n + 1\n",
    "        if len(i[\"a\"])>1:\n",
    "            n_more2 = n_more2 + 1\n",
    "#         if n > 20:\n",
    "#             check = 1\n",
    "#         if check:\n",
    "#             break\n",
    "#     if check:\n",
    "#         break\n",
    "print(f'broken: {broken}')\n",
    "print(f'n: {n}')\n",
    "print(f'n_more2: {n_more2}')\n",
    "print(f'left: {n-n_more2}')\n",
    "print(f'loss: {(n-n_more2)/n}')"
   ]
  },
  {
   "cell_type": "code",
   "execution_count": 124,
   "metadata": {},
   "outputs": [],
   "source": [
    "LAWs = (\\\n",
    "        (r\"(\\[\\s*\\d+\\s*\\])\", r'  '),\n",
    "        (r'(–|-|—)',r' - '),\n",
    "        (r\"(,|;|&|'|\\\"|”|“|\\?|√|≤|≥|\\!|\\\\|≈|÷|′)\", r'  '),\n",
    "        (r\":\", r' : '),\n",
    "        (r\"(\\(|\\[|{)\", r'  (  '),\n",
    "        (r\"(\\)|\\]|})\", r'  )  '),\n",
    "        (r\"๑\", r'1'),\n",
    "        (r\"๒\", r'2'),\n",
    "        (r\"๓\", r'3'),\n",
    "        (r\"๔\", r'4'),\n",
    "        (r\"๕\", r\"5\"),\n",
    "        (r'๖', r\"6\"),\n",
    "        (r\"๗\", r'7'),\n",
    "        (r\"๘\", r\"8\"),\n",
    "        (r'๙', r\"9\"),\n",
    "        (r'๐', r\"0\"),\n",
    "        \n",
    "        (r'(เปอร์เซน|เปอร์เซ็น|เปอเซน|ร้อยละ|percent)', r\" % \"),\n",
    "        (r'(ดอลลาร์|ดอลล่า|dollar)', r\" $ \"),\n",
    "        (r'>', r\" > \"),\n",
    "        (r'<', r\" < \"),\n",
    "        (r\"AAAAAวงเล็บ\\]\", r'  '),\n",
    "        (r\"AAAAAวงเล็บ\\[\", r'  '),\n",
    "        (r'=', r' = '),\n",
    "        (r'\\*', r' * '),\n",
    "        (r'\\+', r' + '),\n",
    "        (r'/', r' / '),\n",
    "        (r'¼',r' 1 / 4 '),\n",
    "        (r'½', r' 1 / 2 '),\n",
    "        (r'¾', r' 3 / 4 '),\n",
    "       )"
   ]
  },
  {
   "cell_type": "code",
   "execution_count": 171,
   "metadata": {},
   "outputs": [],
   "source": [
    "#######################################\n",
    "###########new methods for regular expression######\\\n",
    "#######################################\n",
    "def check_float(string_in):\n",
    "    for i in range(len(string_in)-2, -1, -1):\n",
    "        if string_in[i+1] == '.' and string_in[i] <= '9' and string_in[i] >= '0':\n",
    "            yield i+1\n",
    "\n",
    "def replace_float(string_in):#return str\n",
    "    if len(string_in) > 2:\n",
    "        for i in check_float(string_in):#every floating point in string form ==> separaate them out\n",
    "            string_in = string_in[:i] + ' . ' + string_in[i+1:]\n",
    "        if string_in[0] == '.' and string_in[1] <= '9' and string_in[1] >= '0':\n",
    "            string_in = '. ' + string_in[1:]\n",
    "    return string_in.strip()\n",
    "\n",
    "def clear_other_language(string_s):#return str\n",
    "    regex = re.compile(r'[\\n\\r\\t]')\n",
    "    string_s = string_s.lower()\n",
    "    string_s = regex.sub(\" \", string_s)\n",
    "    for string_to_be_replaced, string_to_replace in LAWs:\n",
    "        string_s = re.sub(string_to_be_replaced, string_to_replace, string_s)\n",
    "    string_s = ' '.join(string_s.split())\n",
    "    return string_s.strip()\n",
    "\n",
    "def fill_UNK(string_in):#return str\n",
    "    return re.sub(r'\\s([^A-Za-z0-9ก-๙-\\(\\)]+)\\s',r'  ',string_in)\n",
    "\n",
    "def overall_regex(string_s):#return str\n",
    "    return ' '.join([i for i in replace_float(fill_UNK(clear_other_language(string_s))).strip().split()]) "
   ]
  },
  {
   "cell_type": "code",
   "execution_count": 172,
   "metadata": {},
   "outputs": [],
   "source": [
    "def my_unique_count(word_list, words_set):\n",
    "    for word in word_list:\n",
    "        if word in words_set:\n",
    "            words_set[word] = words_set[word] + 1\n",
    "        else:\n",
    "            words_set[word] = 1\n",
    "    return"
   ]
  },
  {
   "cell_type": "code",
   "execution_count": 180,
   "metadata": {},
   "outputs": [],
   "source": [
    "word_set = dict()"
   ]
  },
  {
   "cell_type": "code",
   "execution_count": 181,
   "metadata": {},
   "outputs": [
    {
     "name": "stdout",
     "output_type": "stream",
     "text": [
      "total words: 2330\n",
      "326\n",
      "1\n",
      "5.223175965665236\n"
     ]
    },
    {
     "data": {
      "image/png": "[encoded data removed]",
      "text/plain": [
       "<Figure size 432x288 with 1 Axes>"
      ]
     },
     "metadata": {
      "needs_background": "light"
     },
     "output_type": "display_data"
    }
   ],
   "source": [
    "n = 1\n",
    "for UID in data['db']:\n",
    "    if not(n%50):\n",
    "        break\n",
    "    my_unique_count([i for i in word_tokenize(overall_regex(data['db'][UID]['title']), engine = 'deepcut') if i.strip() != ''], word_set)\n",
    "    #print('-------------------------------------------')\n",
    "    my_unique_count([i for i in word_tokenize(overall_regex(data['db'][UID]['detail']), engine = 'deepcut') if i.strip() != ''], word_set)\n",
    "    #print('-------------------------------------------')\n",
    "    n = n + 1\n",
    "    for QA in data['db'][UID]['QA']:\n",
    "        if len(QA['a']) > 1:\n",
    "            continue\n",
    "        my_unique_count([i for i in word_tokenize(overall_regex(QA[\"q\"]), engine = 'deepcut') if i.strip() != ''], word_set) \n",
    "        my_unique_count([i for i in word_tokenize(overall_regex(QA[\"a\"][0]), engine = 'deepcut') if i.strip() != ''], word_set)\n",
    "print(f'total words: {len(word_set)}')\n",
    "plt.hist(list(word_set.values()), 50)\n",
    "print(max(word_set.values()))\n",
    "print(min(word_set.values()))\n",
    "print(np.mean(list(word_set.values())))"
   ]
  },
  {
   "cell_type": "code",
   "execution_count": 183,
   "metadata": {},
   "outputs": [
    {
     "data": {
      "text/html": [
       "<div>\n",
       "<style scoped>\n",
       "    .dataframe tbody tr th:only-of-type {\n",
       "        vertical-align: middle;\n",
       "    }\n",
       "\n",
       "    .dataframe tbody tr th {\n",
       "        vertical-align: top;\n",
       "    }\n",
       "\n",
       "    .dataframe thead th {\n",
       "        text-align: right;\n",
       "    }\n",
       "</style>\n",
       "<table border=\"1\" class=\"dataframe\">\n",
       "  <thead>\n",
       "    <tr style=\"text-align: right;\">\n",
       "      <th></th>\n",
       "      <th>0</th>\n",
       "    </tr>\n",
       "  </thead>\n",
       "  <tbody>\n",
       "    <tr>\n",
       "      <td>พัทธ์ธีรา ศรุติพงศ์โภคิน</td>\n",
       "      <td>6</td>\n",
       "    </tr>\n",
       "    <tr>\n",
       "      <td>(</td>\n",
       "      <td>128</td>\n",
       "    </tr>\n",
       "    <tr>\n",
       "      <td>เกิด</td>\n",
       "      <td>58</td>\n",
       "    </tr>\n",
       "    <tr>\n",
       "      <td>3</td>\n",
       "      <td>27</td>\n",
       "    </tr>\n",
       "    <tr>\n",
       "      <td>ธันวาคม</td>\n",
       "      <td>7</td>\n",
       "    </tr>\n",
       "  </tbody>\n",
       "</table>\n",
       "</div>"
      ],
      "text/plain": [
       "                            0\n",
       "พัทธ์ธีรา ศรุติพงศ์โภคิน    6\n",
       "(                         128\n",
       "เกิด                       58\n",
       "3                          27\n",
       "ธันวาคม                     7"
      ]
     },
     "execution_count": 183,
     "metadata": {},
     "output_type": "execute_result"
    }
   ],
   "source": [
    "DF = pd.DataFrame(word_set.values(), word_set.keys())\n",
    "DF.head()"
   ]
  },
  {
   "cell_type": "code",
   "execution_count": 189,
   "metadata": {},
   "outputs": [
    {
     "data": {
      "text/html": [
       "<div>\n",
       "<style scoped>\n",
       "    .dataframe tbody tr th:only-of-type {\n",
       "        vertical-align: middle;\n",
       "    }\n",
       "\n",
       "    .dataframe tbody tr th {\n",
       "        vertical-align: top;\n",
       "    }\n",
       "\n",
       "    .dataframe thead th {\n",
       "        text-align: right;\n",
       "    }\n",
       "</style>\n",
       "<table border=\"1\" class=\"dataframe\">\n",
       "  <thead>\n",
       "    <tr style=\"text-align: right;\">\n",
       "      <th></th>\n",
       "      <th>0</th>\n",
       "    </tr>\n",
       "  </thead>\n",
       "  <tbody>\n",
       "    <tr>\n",
       "      <td>catholic</td>\n",
       "      <td>1</td>\n",
       "    </tr>\n",
       "    <tr>\n",
       "      <td>cathedral</td>\n",
       "      <td>1</td>\n",
       "    </tr>\n",
       "    <tr>\n",
       "      <td>college</td>\n",
       "      <td>1</td>\n",
       "    </tr>\n",
       "    <tr>\n",
       "      <td>ตรี</td>\n",
       "      <td>1</td>\n",
       "    </tr>\n",
       "    <tr>\n",
       "      <td>raffles</td>\n",
       "      <td>1</td>\n",
       "    </tr>\n",
       "    <tr>\n",
       "      <td>...</td>\n",
       "      <td>...</td>\n",
       "    </tr>\n",
       "    <tr>\n",
       "      <td>ภาวะ</td>\n",
       "      <td>1</td>\n",
       "    </tr>\n",
       "    <tr>\n",
       "      <td>แทรกซ้อน</td>\n",
       "      <td>1</td>\n",
       "    </tr>\n",
       "    <tr>\n",
       "      <td>เพราะ</td>\n",
       "      <td>1</td>\n",
       "    </tr>\n",
       "    <tr>\n",
       "      <td>จำกัด</td>\n",
       "      <td>1</td>\n",
       "    </tr>\n",
       "    <tr>\n",
       "      <td>เขตร้อน</td>\n",
       "      <td>1</td>\n",
       "    </tr>\n",
       "  </tbody>\n",
       "</table>\n",
       "<p>1065 rows × 1 columns</p>\n",
       "</div>"
      ],
      "text/plain": [
       "           0\n",
       "catholic   1\n",
       "cathedral  1\n",
       "college    1\n",
       "ตรี        1\n",
       "raffles    1\n",
       "...       ..\n",
       "ภาวะ       1\n",
       "แทรกซ้อน   1\n",
       "เพราะ      1\n",
       "จำกัด      1\n",
       "เขตร้อน    1\n",
       "\n",
       "[1065 rows x 1 columns]"
      ]
     },
     "execution_count": 189,
     "metadata": {},
     "output_type": "execute_result"
    }
   ],
   "source": [
    "DF[DF[0] == 1]"
   ]
  },
  {
   "cell_type": "code",
   "execution_count": null,
   "metadata": {},
   "outputs": [],
   "source": []
  }
 ],
 "metadata": {
  "kernelspec": {
   "display_name": "Processing",
   "language": "python",
   "name": "processing"
  },
  "language_info": {
   "codemirror_mode": {
    "name": "ipython",
    "version": 3
   },
   "file_extension": ".py",
   "mimetype": "text/x-python",
   "name": "python",
   "nbconvert_exporter": "python",
   "pygments_lexer": "ipython3",
   "version": "3.6.7"
  }
 },
 "nbformat": 4,
 "nbformat_minor": 2
}
